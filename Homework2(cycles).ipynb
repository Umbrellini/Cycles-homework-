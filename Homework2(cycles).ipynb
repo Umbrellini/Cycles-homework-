{
 "cells": [
  {
   "cell_type": "code",
   "execution_count": 1,
   "metadata": {},
   "outputs": [
    {
     "name": "stdout",
     "output_type": "stream",
     "text": [
      "Я не пошел на работу, потому что  на улице холодно\n"
     ]
    }
   ],
   "source": [
    "import random\n",
    "excuses = [\"я устал\",\"я улетел к океану\",\"на улице холодно\", \"мне надоело\"]\n",
    "phrase = 'Я не пошел на работу, потому что '\n",
    "i = random.choice(excuses)\n",
    "print(phrase,i)"
   ]
  },
  {
   "cell_type": "code",
   "execution_count": 2,
   "metadata": {},
   "outputs": [
    {
     "name": "stdout",
     "output_type": "stream",
     "text": [
      "по шкале от 0 до 10, напишите, насколько Вы устали: 11\n",
      "Так нельзя, вам срочно нужно отдохнуть!\n"
     ]
    }
   ],
   "source": [
    "# Homework1 определитель усталости\n",
    "\n",
    "a = float(input('по шкале от 0 до 10, напишите, насколько Вы устали: '))\n",
    "if a < 0.7:\n",
    "    print('Кажется, Вы совсем не устали')\n",
    "elif 0.7 <= a <= 4:\n",
    "     print('Вы немного устали')\n",
    "elif 4 <= a <= 6: \n",
    "     print('Вы средненько устали')\n",
    "elif 6 <= a == 10: \n",
    "     print('Вы очень устали')\n",
    "else: \n",
    "     print('Так нельзя, вам срочно нужно отдохнуть!')"
   ]
  },
  {
   "cell_type": "code",
   "execution_count": 8,
   "metadata": {},
   "outputs": [
    {
     "name": "stdout",
     "output_type": "stream",
     "text": [
      "100\n",
      "\n",
      "90\n",
      "\n",
      "80\n",
      "\n",
      "70\n",
      "\n",
      "60\n",
      "\n",
      "50\n",
      "\n",
      "40\n",
      "\n",
      "30\n",
      "\n",
      "20\n",
      "\n",
      "10\n",
      "\n",
      "0\n",
      "\n"
     ]
    }
   ],
   "source": [
    "i = 100\n",
    "while 0 <= i < 101:\n",
    "    print(i)\n",
    "    i = i - 10\n",
    "    print()"
   ]
  },
  {
   "cell_type": "code",
   "execution_count": 6,
   "metadata": {},
   "outputs": [
    {
     "name": "stdout",
     "output_type": "stream",
     "text": [
      "это не делится на 5, продолжим поиск\n",
      "это не делится на 5, продолжим поиск\n",
      "это не делится на 5, продолжим поиск\n",
      "это не делится на 5, продолжим поиск\n",
      "это не делится на 5, продолжим поиск\n",
      "это не делится на 5, продолжим поиск\n",
      "35 делится на 5\n"
     ]
    }
   ],
   "source": [
    "x = [2,6,7,45,1,89,678,35]\n",
    "for i in x:\n",
    "    if i == 45:\n",
    "        continue \n",
    "    elif i%5 == 0:\n",
    "        print(i,'делится на 5')\n",
    "    elif i%5 != 0:\n",
    "        print ('это не делится на 5, продолжим поиск')\n",
    "     \n",
    "        \n",
    "        \n"
   ]
  },
  {
   "cell_type": "code",
   "execution_count": 47,
   "metadata": {},
   "outputs": [
    {
     "name": "stdout",
     "output_type": "stream",
     "text": [
      "Сегодня в вашем коктейле будет: ['мартини', 'грейпфрутовый сок', 'жасмин', 'тоник']\n"
     ]
    }
   ],
   "source": [
    "import random\n",
    "\n",
    "cocktails = [[\"мартини\",\"грейпфрутовый сок\",\"жасмин\",\"тоник\",\"лосось\"],\n",
    "               [\"клубника\",\"какао\",\"мята\",\"марсала\"],\n",
    "               [\"водка\",\"томатный сок\",\"лимонный сок\",\"вустерширский соус\",\"черный перец\",\"сельдерей\",\"лосось\"],\n",
    "               [\"джин\",\"вермут\",\"ликер мараскино\",\"апельсины\",\"коктейльная вишня\",\"лосось\"],\n",
    "               [\"ром\",\"авокадо\",\"сахарный сироп\",\"сливки\",\"лимонный сок\",\"лед\"],\n",
    "               [\"красный вермут\",\"тоник\",\"апельсины\",\"лосось\"],\n",
    "               [\"только чай\"]]\n",
    "a = [\"мартини\",\"грейпфрутовый сок\",\"жасмин\",\"тоник\",\"лосось\"]\n",
    "a.remove (\"лосось\")\n",
    "#print(a)\n",
    "b = [\"клубника\",\"какао\",\"мята\",\"марсала\"]\n",
    "#print(b)\n",
    "c = [\"водка\",\"томатный сок\",\"лимонный сок\",\"вустерширский соус\",\"черный перец\",\"сельдерей\",\"лосось\"]\n",
    "c.remove (\"лосось\")\n",
    "#print(c)\n",
    "d = [\"джин\",\"вермут\",\"ликер мараскино\",\"апельсины\",\"коктейльная вишня\",\"лосось\"]\n",
    "d.remove (\"лосось\")\n",
    "#print(d)\n",
    "f = [\"только чай\"] \n",
    "#print(f)\n",
    "my_list = [a, b, c, d, f]\n",
    "N = \"Сегодня в вашем коктейле будет:\"\n",
    "cocktails = random.choice(my_list)\n",
    "print(N, cocktails)\n",
    "\n",
    "# Не поняла как использовать list comprehension, сделала примитивненько.\n",
    "\n",
    "\n",
    "    "
   ]
  },
  {
   "cell_type": "code",
   "execution_count": null,
   "metadata": {},
   "outputs": [],
   "source": []
  },
  {
   "cell_type": "code",
   "execution_count": null,
   "metadata": {},
   "outputs": [],
   "source": []
  },
  {
   "cell_type": "code",
   "execution_count": null,
   "metadata": {},
   "outputs": [],
   "source": []
  }
 ],
 "metadata": {
  "kernelspec": {
   "display_name": "Python 3",
   "language": "python",
   "name": "python3"
  },
  "language_info": {
   "codemirror_mode": {
    "name": "ipython",
    "version": 3
   },
   "file_extension": ".py",
   "mimetype": "text/x-python",
   "name": "python",
   "nbconvert_exporter": "python",
   "pygments_lexer": "ipython3",
   "version": "3.9.0"
  }
 },
 "nbformat": 4,
 "nbformat_minor": 4
}
